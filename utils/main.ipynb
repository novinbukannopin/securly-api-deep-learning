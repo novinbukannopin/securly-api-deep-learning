{
 "cells": [
  {
   "cell_type": "code",
   "id": "initial_id",
   "metadata": {
    "collapsed": true,
    "ExecuteTime": {
     "end_time": "2024-12-16T13:21:42.154306Z",
     "start_time": "2024-12-16T13:21:42.150665Z"
    }
   },
   "source": "import pandas as pd",
   "outputs": [],
   "execution_count": 2
  },
  {
   "metadata": {
    "ExecuteTime": {
     "end_time": "2024-12-16T13:22:10.225731Z",
     "start_time": "2024-12-16T13:22:07.130792Z"
    }
   },
   "cell_type": "code",
   "source": [
    "data = pd.read_csv(\"../files/trustpositifkominfo.csv\")\n",
    "data.head(10)"
   ],
   "id": "610dd8d626667970",
   "outputs": [
    {
     "data": {
      "text/plain": [
       "                                            $TTL 900\n",
       "0  @\\tSOA\\tlocalhost.\\taduankonten.mail.kominfo.g...\n",
       "1                              \\t2023081302\\t;Serial\n",
       "2                                 \\t1000\\t\\t;Refresh\n",
       "3                                   \\t1000\\t\\t;Retry\n",
       "4                               \\t2592000\\t\\t;Expiry\n",
       "5                                     \\t900)\\t\\t;TTL\n",
       "6                              @\\tIN\\tNS\\tlocalhost.\n",
       "7  partaikomunisindonesia.wordpress.com 3600 IN C...\n",
       "8  raymondibrahim.com 3600 IN CNAME trustpositif....\n",
       "9  buktidansaksi.com 3600 IN CNAME trustpositif.k..."
      ],
      "text/html": [
       "<div>\n",
       "<style scoped>\n",
       "    .dataframe tbody tr th:only-of-type {\n",
       "        vertical-align: middle;\n",
       "    }\n",
       "\n",
       "    .dataframe tbody tr th {\n",
       "        vertical-align: top;\n",
       "    }\n",
       "\n",
       "    .dataframe thead th {\n",
       "        text-align: right;\n",
       "    }\n",
       "</style>\n",
       "<table border=\"1\" class=\"dataframe\">\n",
       "  <thead>\n",
       "    <tr style=\"text-align: right;\">\n",
       "      <th></th>\n",
       "      <th>$TTL 900</th>\n",
       "    </tr>\n",
       "  </thead>\n",
       "  <tbody>\n",
       "    <tr>\n",
       "      <th>0</th>\n",
       "      <td>@\\tSOA\\tlocalhost.\\taduankonten.mail.kominfo.g...</td>\n",
       "    </tr>\n",
       "    <tr>\n",
       "      <th>1</th>\n",
       "      <td>\\t2023081302\\t;Serial</td>\n",
       "    </tr>\n",
       "    <tr>\n",
       "      <th>2</th>\n",
       "      <td>\\t1000\\t\\t;Refresh</td>\n",
       "    </tr>\n",
       "    <tr>\n",
       "      <th>3</th>\n",
       "      <td>\\t1000\\t\\t;Retry</td>\n",
       "    </tr>\n",
       "    <tr>\n",
       "      <th>4</th>\n",
       "      <td>\\t2592000\\t\\t;Expiry</td>\n",
       "    </tr>\n",
       "    <tr>\n",
       "      <th>5</th>\n",
       "      <td>\\t900)\\t\\t;TTL</td>\n",
       "    </tr>\n",
       "    <tr>\n",
       "      <th>6</th>\n",
       "      <td>@\\tIN\\tNS\\tlocalhost.</td>\n",
       "    </tr>\n",
       "    <tr>\n",
       "      <th>7</th>\n",
       "      <td>partaikomunisindonesia.wordpress.com 3600 IN C...</td>\n",
       "    </tr>\n",
       "    <tr>\n",
       "      <th>8</th>\n",
       "      <td>raymondibrahim.com 3600 IN CNAME trustpositif....</td>\n",
       "    </tr>\n",
       "    <tr>\n",
       "      <th>9</th>\n",
       "      <td>buktidansaksi.com 3600 IN CNAME trustpositif.k...</td>\n",
       "    </tr>\n",
       "  </tbody>\n",
       "</table>\n",
       "</div>"
      ]
     },
     "execution_count": 6,
     "metadata": {},
     "output_type": "execute_result"
    }
   ],
   "execution_count": 6
  },
  {
   "metadata": {
    "ExecuteTime": {
     "end_time": "2024-12-16T13:22:11.407750Z",
     "start_time": "2024-12-16T13:22:11.259351Z"
    }
   },
   "cell_type": "code",
   "source": [
    "# delete row 0-6\n",
    "data = data.drop(data.index[0:7])"
   ],
   "id": "a8fc300a9fd6b264",
   "outputs": [],
   "execution_count": 7
  },
  {
   "metadata": {
    "ExecuteTime": {
     "end_time": "2024-12-16T13:22:12.984322Z",
     "start_time": "2024-12-16T13:22:12.974866Z"
    }
   },
   "cell_type": "code",
   "source": "data",
   "id": "84950ceb3ec60150",
   "outputs": [
    {
     "data": {
      "text/plain": [
       "                                                  $TTL 900\n",
       "7        partaikomunisindonesia.wordpress.com 3600 IN C...\n",
       "8        raymondibrahim.com 3600 IN CNAME trustpositif....\n",
       "9        buktidansaksi.com 3600 IN CNAME trustpositif.k...\n",
       "10       murtadinkafirun.forumotion.net 3600 IN CNAME t...\n",
       "11       mantanmuslim.com 3600 IN CNAME trustpositif.ko...\n",
       "...                                                    ...\n",
       "3869852  *.zonagladiator88.com 3600 IN CNAME trustposit...\n",
       "3869853  *.oyo88a.co 3600 IN CNAME trustpositif.kominfo...\n",
       "3869854  *.oyo99a.net 3600 IN CNAME trustpositif.kominf...\n",
       "3869855  *.thesmartwatchreview.com 3600 IN CNAME trustp...\n",
       "3869856  *.oyoslot2.org 3600 IN CNAME trustpositif.komi...\n",
       "\n",
       "[3869850 rows x 1 columns]"
      ],
      "text/html": [
       "<div>\n",
       "<style scoped>\n",
       "    .dataframe tbody tr th:only-of-type {\n",
       "        vertical-align: middle;\n",
       "    }\n",
       "\n",
       "    .dataframe tbody tr th {\n",
       "        vertical-align: top;\n",
       "    }\n",
       "\n",
       "    .dataframe thead th {\n",
       "        text-align: right;\n",
       "    }\n",
       "</style>\n",
       "<table border=\"1\" class=\"dataframe\">\n",
       "  <thead>\n",
       "    <tr style=\"text-align: right;\">\n",
       "      <th></th>\n",
       "      <th>$TTL 900</th>\n",
       "    </tr>\n",
       "  </thead>\n",
       "  <tbody>\n",
       "    <tr>\n",
       "      <th>7</th>\n",
       "      <td>partaikomunisindonesia.wordpress.com 3600 IN C...</td>\n",
       "    </tr>\n",
       "    <tr>\n",
       "      <th>8</th>\n",
       "      <td>raymondibrahim.com 3600 IN CNAME trustpositif....</td>\n",
       "    </tr>\n",
       "    <tr>\n",
       "      <th>9</th>\n",
       "      <td>buktidansaksi.com 3600 IN CNAME trustpositif.k...</td>\n",
       "    </tr>\n",
       "    <tr>\n",
       "      <th>10</th>\n",
       "      <td>murtadinkafirun.forumotion.net 3600 IN CNAME t...</td>\n",
       "    </tr>\n",
       "    <tr>\n",
       "      <th>11</th>\n",
       "      <td>mantanmuslim.com 3600 IN CNAME trustpositif.ko...</td>\n",
       "    </tr>\n",
       "    <tr>\n",
       "      <th>...</th>\n",
       "      <td>...</td>\n",
       "    </tr>\n",
       "    <tr>\n",
       "      <th>3869852</th>\n",
       "      <td>*.zonagladiator88.com 3600 IN CNAME trustposit...</td>\n",
       "    </tr>\n",
       "    <tr>\n",
       "      <th>3869853</th>\n",
       "      <td>*.oyo88a.co 3600 IN CNAME trustpositif.kominfo...</td>\n",
       "    </tr>\n",
       "    <tr>\n",
       "      <th>3869854</th>\n",
       "      <td>*.oyo99a.net 3600 IN CNAME trustpositif.kominf...</td>\n",
       "    </tr>\n",
       "    <tr>\n",
       "      <th>3869855</th>\n",
       "      <td>*.thesmartwatchreview.com 3600 IN CNAME trustp...</td>\n",
       "    </tr>\n",
       "    <tr>\n",
       "      <th>3869856</th>\n",
       "      <td>*.oyoslot2.org 3600 IN CNAME trustpositif.komi...</td>\n",
       "    </tr>\n",
       "  </tbody>\n",
       "</table>\n",
       "<p>3869850 rows × 1 columns</p>\n",
       "</div>"
      ]
     },
     "execution_count": 8,
     "metadata": {},
     "output_type": "execute_result"
    }
   ],
   "execution_count": 8
  },
  {
   "metadata": {
    "ExecuteTime": {
     "end_time": "2024-12-16T13:23:03.584713Z",
     "start_time": "2024-12-16T13:23:03.579306Z"
    }
   },
   "cell_type": "code",
   "source": "data.columns = ['url']",
   "id": "517f58ef142958b3",
   "outputs": [],
   "execution_count": 10
  },
  {
   "metadata": {
    "ExecuteTime": {
     "end_time": "2024-12-16T13:23:26.936613Z",
     "start_time": "2024-12-16T13:23:21.502995Z"
    }
   },
   "cell_type": "code",
   "source": "data = data['url'].str.split(' ', expand=True)",
   "id": "64a0017137518ae1",
   "outputs": [],
   "execution_count": 12
  },
  {
   "metadata": {
    "ExecuteTime": {
     "end_time": "2024-12-16T13:24:37.839393Z",
     "start_time": "2024-12-16T13:24:37.833034Z"
    }
   },
   "cell_type": "code",
   "source": "data = data[0]",
   "id": "a6f198b52867ac76",
   "outputs": [],
   "execution_count": 20
  },
  {
   "metadata": {
    "ExecuteTime": {
     "end_time": "2024-12-16T13:25:10.490105Z",
     "start_time": "2024-12-16T13:25:08.761354Z"
    }
   },
   "cell_type": "code",
   "source": [
    "# export to csv\n",
    "data.to_csv(\"../files/negative.csv\", index=False)"
   ],
   "id": "86e36e71403d56cf",
   "outputs": [],
   "execution_count": 22
  },
  {
   "metadata": {
    "ExecuteTime": {
     "end_time": "2024-12-16T13:25:21.917033Z",
     "start_time": "2024-12-16T13:25:21.363142Z"
    }
   },
   "cell_type": "code",
   "source": [
    "# export to json\n",
    "data.to_json(\"../files/negative.json\", orient='records')"
   ],
   "id": "e036c039dd58f5dc",
   "outputs": [],
   "execution_count": 23
  }
 ],
 "metadata": {
  "kernelspec": {
   "display_name": "Python 3",
   "language": "python",
   "name": "python3"
  },
  "language_info": {
   "codemirror_mode": {
    "name": "ipython",
    "version": 2
   },
   "file_extension": ".py",
   "mimetype": "text/x-python",
   "name": "python",
   "nbconvert_exporter": "python",
   "pygments_lexer": "ipython2",
   "version": "2.7.6"
  }
 },
 "nbformat": 4,
 "nbformat_minor": 5
}
